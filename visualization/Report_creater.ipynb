{
 "cells": [
  {
   "cell_type": "code",
   "execution_count": 1,
   "metadata": {
    "pycharm": {
     "is_executing": false
    }
   },
   "outputs": [
    {
     "name": "stdout",
     "output_type": "stream",
     "text": [
      "/Users/hqyone/PycharmProjects/tRNAExplorer/test/output/static.log\n"
     ]
    }
   ],
   "source": [
    "import os\n",
    "import data_loader as dl\n",
    "import correlation_plot as cp\n",
    "import profile_plot as dp\n",
    "import express_statistic_plot as es\n",
    "import trf_type_barplot as tt\n",
    "import read_statistic as rs\n",
    "import mismatches_plot as mp\n",
    "import pylab\n",
    "import pandas as pd\n",
    "import numpy as np\n",
    "\n",
    "pd.options.plotting.backend = \"plotly\"\n",
    "%matplotlib inline\n",
    "\n",
    "'''\n",
    "# Visualization module of tRNAExploer (v1.0) \n",
    "# The visual configure file\n",
    "'''\n",
    "#visual_config = \"/Users/hqyone/PycharmProjects/data_output/server2/visual_config.tsv\"\n",
    "#visual_config = \"/Users/hqyone/PycharmProjects/data_output/tRNA_seq/output/visual_config.tsv\"\n",
    "#visual_config = \"/Users/hqyone/PycharmProjects/data_output/cancer/output/visual_config.tsv\"\n",
    "wdir = '/Users/hqyone/PycharmProjects/tRNAExplorer/test/output'\n",
    "visual_config = wdir+\"/visual_config.tsv\"\n",
    "\n",
    "\n",
    "if not os.path.isfile(visual_config):\n",
    "    print(\"Can't find config file. Abort !\")\n",
    "    exit(-1)\n",
    "\n",
    "# If you don't set report_dir, the default path will be <output_dir>+\"/reports\"\n",
    "report_dir = \"\"\n",
    "\n",
    "# Loading data\n",
    "d =  dl.LoadConfig(visual_config, report_dir)"
   ]
  },
  {
   "cell_type": "code",
   "execution_count": 12,
   "metadata": {},
   "outputs": [
    {
     "name": "stdout",
     "output_type": "stream",
     "text": [
      "0.11.0\n",
      "      #SampleID          tRNA_family           tRNA_ID    ID  Position  \\\n",
      "0    SRR1836127  TF_tRNA-Glu-CTC-1-1  tRNA-Glu-CTC-1-6  P131        71   \n",
      "1    SRR1836127  TF_tRNA-Glu-CTC-1-1  tRNA-Glu-CTC-1-6   P59        -1   \n",
      "2    SRR1836127  TF_tRNA-Glu-CTC-1-1  tRNA-Glu-CTC-1-7  P131        71   \n",
      "3    SRR1836127  TF_tRNA-Glu-CTC-1-1  tRNA-Glu-CTC-1-7   P59        -1   \n",
      "4    SRR1836127  TF_tRNA-Glu-CTC-1-1  tRNA-Glu-CTC-1-4  P131        71   \n",
      "..          ...                  ...               ...   ...       ...   \n",
      "300  SRR1836125  TF_tRNA-Lys-TTT-3-1  tRNA-Lys-TTT-3-4   P96        36   \n",
      "301  SRR1836125  TF_tRNA-Lys-TTT-3-1  tRNA-Lys-TTT-3-4  P132        72   \n",
      "302  SRR1836125  TF_tRNA-Lys-TTT-3-1  tRNA-Lys-TTT-3-5   P96        36   \n",
      "303  SRR1836125  TF_tRNA-Lys-TTT-3-1  tRNA-Lys-TTT-3-5  P132        72   \n",
      "304  SRR1836125  TF_tRNA-Val-CAC-1-1  tRNA-Val-CAC-5-1  P132        72   \n",
      "\n",
      "         PType  Intensity  Intensity_5  Intensity_3  SNRatio     Seq_5  \\\n",
      "0          End        183          183            0    183.0  TCAGGGAA   \n",
      "1        Start        128            0          128    128.0  CTTCAGCT   \n",
      "2          End        237          237            0    237.0  TCAGGGAA   \n",
      "3        Start        155            0          155    155.0  GTGCAAGT   \n",
      "4          End        183          183            0    183.0  TCAGGGAA   \n",
      "..         ...        ...          ...          ...      ...       ...   \n",
      "300  Anticodon        145            0          145    145.0  GACTTTTA   \n",
      "301        End        149          149            0    149.0  TTCGGGCG   \n",
      "302  Anticodon        211            0          211    211.0  GACTTTTA   \n",
      "303        End        215          215            0    215.0  TTCGGGCG   \n",
      "304        End        429          429            0    429.0  CGGAAACA   \n",
      "\n",
      "        Seq_3          full_Seq   AA CODE  CODE_AA  \n",
      "0    TGAGGTTT  TCAGGGAATGAGGTTT  Glu  CTC  CTC_Glu  \n",
      "1    TCCCTGGT  CTTCAGCTTCCCTGGT  Glu  CTC  CTC_Glu  \n",
      "2    GTCTTGTT  TCAGGGAAGTCTTGTT  Glu  CTC  CTC_Glu  \n",
      "3    TCCCTGGT  GTGCAAGTTCCCTGGT  Glu  CTC  CTC_Glu  \n",
      "4    GCCTTCCT  TCAGGGAAGCCTTCCT  Glu  CTC  CTC_Glu  \n",
      "..        ...               ...  ...  ...      ...  \n",
      "300  ATCTGAGG  GACTTTTAATCTGAGG  Lys  TTT  TTT_Lys  \n",
      "301  GTATCTTT  TTCGGGCGGTATCTTT  Lys  TTT  TTT_Lys  \n",
      "302  ATCTGAGG  GACTTTTAATCTGAGG  Lys  TTT  TTT_Lys  \n",
      "303  GCATGTCT  TTCGGGCGGCATGTCT  Lys  TTT  TTT_Lys  \n",
      "304  TAAGTTTT  CGGAAACATAAGTTTT  Val  CAC  CAC_Val  \n",
      "\n",
      "[305 rows x 16 columns]\n",
      "           #SampleID  tRNA_family  tRNA_ID   ID  Position  Intensity  \\\n",
      "PType                                                                  \n",
      "A-loop             1            1        1    1         1          1   \n",
      "Anticodon         67           67       67   67        67         67   \n",
      "D-loop            10           10       10   10        10         10   \n",
      "End              195          195      195  195       195        195   \n",
      "Other              2            2        2    2         2          2   \n",
      "Start             28           28       28   28        28         28   \n",
      "stem_for           2            2        2    2         2          2   \n",
      "\n",
      "           Intensity_5  Intensity_3  SNRatio  Seq_5  Seq_3  full_Seq   AA  \\\n",
      "PType                                                                       \n",
      "A-loop               1            1        1      1      1         1    1   \n",
      "Anticodon           67           67       67     67     67        67   67   \n",
      "D-loop              10           10       10     10     10        10   10   \n",
      "End                195          195      195    195    195       195  195   \n",
      "Other                2            2        2      2      2         2    2   \n",
      "Start               28           28       28     28     28        28   28   \n",
      "stem_for             2            2        2      2      2         2    2   \n",
      "\n",
      "           CODE  CODE_AA  \n",
      "PType                     \n",
      "A-loop        1        1  \n",
      "Anticodon    67       67  \n",
      "D-loop       10       10  \n",
      "End         195      195  \n",
      "Other         2        2  \n",
      "Start        28       28  \n",
      "stem_for      2        2  \n"
     ]
    },
    {
     "data": {
      "image/png": "[encoded data removed]",
      "text/plain": [
       "<Figure size 360x360 with 1 Axes>"
      ]
     },
     "metadata": {
      "needs_background": "light"
     },
     "output_type": "display_data"
    }
   ],
   "source": [
    "import seaborn as sns\n",
    "print(sns.__version__)\n",
    "data =d[\"cleavage_df\"]\n",
    "print(data[data['Intensity']>100])\n",
    "sns.displot(data, x=\"Position\", binwidth=3)\n",
    "print(data.groupby(by='PType').agg('count'))"
   ]
  },
  {
   "cell_type": "code",
   "execution_count": null,
   "metadata": {},
   "outputs": [],
   "source": [
    "'''\n",
    "    The function creates a correlation matrix to show the relationship between samples\n",
    "    @param d:  The data object generated by data_loader.py\n",
    "    @param type: \"count\"/\"pileup\" the matrix used for calculated correlation matrix. \"count\" means using read counts or\n",
    "                 \"pileup\" means use the max depth of pileup to indicate abundance and calculate the matrix.\n",
    "    @param label: \"des\" label with sample description or others with ID of samples.\n",
    "    @param groupby: group by can be \"CODE_AA\",\"AA\",\"CODE\",\"#tRNA_family\",\"tRNA_ID\"\n",
    "                    It determines the way summing the value based on the column and then calculate correlation.\n",
    "    @param method: The method to calculate correlation (pearson, kendall, spearman)\n",
    "    @param fig_size: The size of fig\n",
    "    @param font_size: The size of text in matrix\n",
    "    @return: None\n",
    "'''\n",
    "cp.drawCorrMatrixPic(d,\n",
    "                     type=\"count\", \n",
    "                     label=\"des\",\n",
    "                     groupby=\"#tRNA_family\",\n",
    "                     method=\"pearson\",\n",
    "                     fig_size = 12,\n",
    "                     font_size=14)"
   ]
  },
  {
   "cell_type": "code",
   "execution_count": null,
   "metadata": {
    "pycharm": {
     "is_executing": false,
     "name": "#%%\n"
    }
   },
   "outputs": [],
   "source": [
    "'''\n",
    "    Draw tRF profiles for each tRNA across samples\n",
    "    @param d: The data object generated by data_loader.py\n",
    "    @param groupby: F(Family)/Other(tRNA genes)\n",
    "    @param test: Number, If >0 will prints the n profile for testing\n",
    "                 or print all profiles in output_dir\n",
    "    @param output_dir: The output directory. The default is <output_dir>/reports\n",
    "    @param min_depth: The minimum depth of pileup for a sample to print the profile (Default 20)\n",
    "    @param share_y_lim: Whether all profiles share the same depth limitation across samples (Default True)\n",
    "    @param normalized: whether normalize to the number of total tRNA mapped reads (Default True)\n",
    "    @return:\n",
    "'''\n",
    "dp.drawProfiles(d, \n",
    "                groupby ='F',\n",
    "                fig_num = 4,\n",
    "                output_dir=\"\",\n",
    "                min_depth=20,\n",
    "                share_y_lim = True,\n",
    "                normalized = False\n",
    "                )"
   ]
  },
  {
   "cell_type": "code",
   "execution_count": null,
   "metadata": {
    "pycharm": {
     "is_executing": false,
     "name": "#%%\n"
    }
   },
   "outputs": [],
   "source": [
    "'''\n",
    "    Create two stack bar charts to show the composition of tRFs in samples\n",
    "    @param d: The data object generated by data_loader.py\n",
    "    @param fontsize: The size of font of x, y axis and labels\n",
    "    @return: None\n",
    "'''\n",
    "tt.drawTrfDistForSamples(d, 18)"
   ]
  },
  {
   "cell_type": "code",
   "execution_count": null,
   "metadata": {
    "pycharm": {
     "is_executing": false,
     "name": "#%%\n"
    }
   },
   "outputs": [],
   "source": [
    "'''\n",
    "    Create two stack bar charts to show the composition of tRFs for each acceptor in a samples\n",
    "    @param d: The data object generated by data_loader.py\n",
    "    @param font_size: The size of font, default 18\n",
    "    @param test: Boolean, If true only print the stack bar charts for first sample for testing purposes\n",
    "                 or print all profiles in output_dir with <report_dir> + \"/\" + s_id + '_aa.png'\n",
    "    @return: None\n",
    "'''\n",
    "tt.drawTrfDistForAcceptorsInSamples(d, font_size= 18, test=False)"
   ]
  },
  {
   "cell_type": "code",
   "execution_count": null,
   "metadata": {
    "pycharm": {
     "is_executing": false,
     "name": "#%%\n"
    }
   },
   "outputs": [],
   "source": [
    "'''\n",
    "    Create a box plot to compare expression level of tRFs in multiple levels\n",
    "    The program will calculate max_exp (max value of expression), exp_samples_num (The number of sample expressed the tRF)\n",
    "    or median_exp (median expression across samples) and then group by certain features set by \"groupby\"\n",
    "    to plot a box plot to compare expression between different groups\n",
    "    @param d: The data object generated by data_loader.py\n",
    "    @param min_exp_cutoff: The minimum of read count for a sample to express the tRFs\n",
    "    @param sample_ls: A list of IDs of selected sample, if it is empty, it will use all data from all available samples\n",
    "    @param groupby: feature for group can be one of them [\"Type\",\"exp_samples\",\"tRNA_families\",\"CODE\",\"CODE_AA\",\"AA\"]\n",
    "    @param value: The way to calculate the expression [\"]median_exp\",\"exp_samples_num\",\"max_exp\"]\n",
    "    @param fontsize: Font size (Default 14)\n",
    "    @param fig_w: weight of figure (12)\n",
    "    @param fig_h: height of figure (8)\n",
    "    @return: None\n",
    "'''\n",
    "sample_ls=[]\n",
    "# sample_ls=['ENCFF126QMV.sorted,ENCFF338LGX.sorted,ENCFF848JOE.sorted,ENCFF894FTI.sorted,ENCFF536JJC.sorted']\n",
    "# groupby can be \"Type\",\"CODE_AA\",\"AA\",\"CODE\",\"tRNA_families\",\"CODE_AA\"\n",
    "\n",
    "es.drawExpBoxPlotForGroup(d,\n",
    "                          min_exp_cutoff=50,\n",
    "                          sample_ls=sample_ls, \n",
    "                          title=\"title3\",\n",
    "                          groupby=\"CODE_AA\",\n",
    "                          value=\"median_exp\",\n",
    "                          fontsize = 16,\n",
    "                          fig_w = 12,\n",
    "                          fig_h = 8\n",
    "                         )\n",
    "\n"
   ]
  },
  {
   "cell_type": "code",
   "execution_count": null,
   "metadata": {
    "pycharm": {
     "is_executing": false,
     "name": "#%%\n"
    }
   },
   "outputs": [],
   "source": [
    "'''\n",
    "    Create expression matrix of tRNA/Group/Acceptors vs samples\n",
    "    The expression levels were transformed by log10\n",
    "    @param d: The data object generated by data_loader.py\n",
    "    @param figure: Absolute path of output figure, Default : report_dir+\"/exp_matrix.png\"\n",
    "    @param sample_ls: selected sample ID list, if it is empty, it will use all data from all available samples\n",
    "    @param groupby: \"tRF_First_Type\",\"CODE_AA\",\"AA\",\"CODE\",\"tRNA_Families\",\"CODE_AA\",\"tRNA_ID\"\n",
    "    @param xl_method: the linkage method for x axis\n",
    "    @param yl_method: the linkage method for y axis\n",
    "    @param xaxis_font_size: the linkage method for x axis\n",
    "    @param yaxis_font_size: the linkage method for y axis\n",
    "    @param cmap: the colormap of the matrix\n",
    "    @param fontsize: Font size (Default 14)\n",
    "    @param fig_w: weight of figure (12)\n",
    "    @param fig_h: height of figure (18)\n",
    "    @return: None\n",
    "'''\n",
    "\n",
    "# sample_ls=['SRR1836127','SRR1836126','SRR1836128','SRR1836129','SRR1836123']\n",
    "sample_ls=[]\n",
    "es.drawExpMatrixForFamily(d,\n",
    "                          figure = \"matrix.png\",\n",
    "                          sample_ls = sample_ls,\n",
    "                          groupby='AA',\n",
    "                          xl_method = \"single\",\n",
    "                          yl_method = \"centroid\", #single\n",
    "                          xaxis_font_size=12,\n",
    "                          yaxis_font_size=12,\n",
    "                          cmap=pylab.cm.YlGnBu,\n",
    "                          fig_w = 12,\n",
    "                          fig_h = 18\n",
    "                          )\n",
    "\n"
   ]
  },
  {
   "cell_type": "code",
   "execution_count": null,
   "metadata": {
    "pycharm": {
     "is_executing": false,
     "name": "#%%\n"
    }
   },
   "outputs": [],
   "source": [
    "'''\n",
    "    Create expression matrix of tRFs vs samples\n",
    "    The expression levels were transformed by log10\n",
    "    @param d: The data object generated by data_loader.py\n",
    "    @param figure: Absolute path of output figure, Default : report_dir+\"/exp_matrix.png\"\n",
    "    @param sample_ls: selected sample ID list, if it is empty, it will use all data from all available samples\n",
    "    @param xl_method: the linkage method for x axis\n",
    "    @param yl_method: the linkage method for y axis\n",
    "    @param xaxis_font_size: the linkage method for x axis\n",
    "    @param yaxis_font_size: the linkage method for y axis\n",
    "    @param cmap: the colormap of the matrix, the list can be found at \n",
    "        https://matplotlib.org/3.1.1/gallery/color/colormap_reference.html\n",
    "    @param fig_w: weight of figure (12)\n",
    "    @param fig_h: height of figure (18)\n",
    "    @param min_int: minimum of the mean read counts of tRF \n",
    "    @return: None\n",
    "'''\n",
    "# sample_ls=['SRR1836127','SRR1836126','SRR1836128','SRR1836129','SRR1836123']\n",
    "\n",
    "sample_ls=[]\n",
    "es.drawTrfExpMatrixForSample(d,\n",
    "                            figure = \"trf_matrix.png\",\n",
    "                            sample_ls = sample_ls,\n",
    "                            xl_method = \"single\",\n",
    "                            yl_method = \"centroid\", #single\n",
    "                            xaxis_font_size=12,\n",
    "                            yaxis_font_size=12,\n",
    "                            cmap=pylab.cm.jet,\n",
    "                            fig_w = 12,\n",
    "                            fig_h = 28,\n",
    "                            min_int = 10\n",
    "                          )\n",
    "\n",
    "\n"
   ]
  },
  {
   "cell_type": "code",
   "execution_count": null,
   "metadata": {
    "pycharm": {
     "is_executing": false,
     "name": "#%%\n"
    }
   },
   "outputs": [],
   "source": [
    "'''\n",
    "    Draw bar charts for Type/Count of tRF for each samples\n",
    "    @param d: The data object generated by data_loader.py\n",
    "    @param sample_ls: selected sample ID list\n",
    "    @param type: 'read_count' for draw bar chart for read count, others will draw tRF types\n",
    "    @return:\n",
    "'''\n",
    "sample_ls=[]\n",
    "#sample_ls=['ENCFF536JJC.sorted','ENCFF656GZF.sorted','ENCFF894FTI.sorted','ENCFF110BEH.sorted']\n",
    "es.drawTrfLengthDistribution(d,\n",
    "                             sample_ls=sample_ls,\n",
    "                             type=\"read_count\"\n",
    "                             )\n"
   ]
  },
  {
   "cell_type": "code",
   "execution_count": null,
   "metadata": {},
   "outputs": [],
   "source": [
    "'''\n",
    "    Some post-ranscriptional modifications on tRNAs will result in mismatches in NGS data\n",
    "    The function \n",
    "        1)Generates a tsv file containing details about mismatch information for tRNA families across samples.\n",
    "        2)Create bar charts for the distribution of mutation ratio for each sample.\n",
    "        3)Creates mismatch ratio matrix for tRNA family (mutation location vs samples).\n",
    "    @param d:  The data object generated by data_loader.py\n",
    "    @param tRNA_families: a list of the name of tRNA families which will show in the matrixes, if it \n",
    "                          empty all avaliable tRNA families will be shown in the matrix\n",
    "    @param max_ratio_cutoff: only mismatch sites with mismatch ratio above the cutoff in at \n",
    "                            least one sample will be repoted\n",
    "    @param mean_read_cutoff: The minimal of mean read number across samples to \n",
    "                            filter out sites with very few reads\n",
    "    @param draw_fig: whether draw bar charts for distribution of mutation ratio for each sample\n",
    "    @param test: If test is true, only draw three matrixes for testing.\n",
    "    @return: None\n",
    "'''\n",
    "\n",
    "mp.drawMismatchMatrixByFamily(d, \n",
    "                              tRNA_families=[], \n",
    "                              max_ratio_cutoff=0.1, \n",
    "                              mean_read_cutoff=0, \n",
    "                              draw_fig=False, \n",
    "                              test=True)"
   ]
  },
  {
   "cell_type": "code",
   "execution_count": null,
   "metadata": {},
   "outputs": [],
   "source": [
    "'''\n",
    "    Some post-ranscriptional modifications on tRNAs will result in mismatches in NGS data\n",
    "    The function \n",
    "        1)Generates a tsv file containing details about mismatch information for tRNA families across samples.\n",
    "        2)Create bar charts for the distribution of mutation ratio for each sample.\n",
    "        3)Creates mismatch ratio matrix for tRNA family (mutation location vs samples).\n",
    "        4)Create two tsv files about mismatch ratio and unireads numbers matrixes (samples vs sites of tRNA families) \n",
    "    @param d:  The data object generated by data_loader.py\n",
    "    @param loc_ref: The ref base on the location in tRNA\n",
    "    @param loc_site_ls: a list of possible location in mature tRNA\n",
    "    @param loc_name: The name of the sites which will be shown in the \n",
    "    @param row_sum_cutoff: The minimal of the sum of each row in the matrix to filter out some tRNA families with\n",
    "                           limited data                \n",
    "    @param tRNA_families: a list of the name of tRNA families which will show in the matrixes, if it \n",
    "                          empty all avaliable tRNA families will be shown in the matrix\n",
    "    @param max_ratio_cutoff: only mismatch sites with mismatch ratio above the cutoff in at \n",
    "                            least one sample will be repoted\n",
    "    @param mean_read_cutoff: The minimal of mean read number across samples to \n",
    "                            filter out sites with very few reads\n",
    "    @param draw_fig: whether draw bar charts for distribution of mutation ratio for each sample\n",
    "    @param test: If test is true, only draw three matrixes for testing.\n",
    "    @return: None\n",
    "    \n",
    "    Following are some regular modification sites\n",
    "    ('A', [56,57,58,59,67], A57')\n",
    "    ('G', [9,10],'G9')\n",
    "    ('G', [7],'G7')\n",
    "    ('G', [63,64,65],'G64')\n",
    "    ('A', [33,34,35],'A34')\n",
    "    ('A', [36,37,38],'A37')\n",
    "    ('G', [25,26,27],'G27')\n",
    "'''\n",
    "loc_ref = 'A'\n",
    "loc_site_ls = [56,57,58,59,67]\n",
    "loc_name = 'A57'\n",
    "mp.drawMismatchMatrixByLocation(d,\n",
    "                                loc_ref = loc_ref,\n",
    "                                loc_site_ls = loc_site_ls, \n",
    "                                loc_name = loc_name, \n",
    "                                row_sum_cutoff=0, \n",
    "                                tRNA_families=[], \n",
    "                                max_ratio_cutoff=0.1, \n",
    "                                mean_read_cutoff=0, \n",
    "                                draw_fig=False, \n",
    "                                test=True)"
   ]
  },
  {
   "cell_type": "code",
   "execution_count": null,
   "metadata": {
    "pycharm": {
     "is_executing": false,
     "name": "#%%\n"
    }
   },
   "outputs": [],
   "source": [
    "'''\n",
    "    The function shows the 5' and 3' base addition modifications of tRFs.\n",
    "    The function will present two tsv files to summerize 5' and 3' terminal additions\n",
    "    And draw four types/columns of pie charts:\n",
    "        1. Pie charts showing the ratio of tRFs with or without 5'-Addition modification\n",
    "        2. Pie charts showing the composition of 5'-Addition modifications\n",
    "        3. Pie charts showing the ratio of tRFs with or without 3'-Addition modification\n",
    "        4. Pie charts showing the composition of 3'-Addition modifications\n",
    "    @param d: The data object generated by data_loader.py\n",
    "    @param proj_name: the name of project, the default is \"test\", use can check the name of hit.tab file\n",
    "            it follows the pattern : <sampleID>+\"_\"+<proj_name>+\"_hit.tab\"\n",
    "    @param top_num: The number of top addition modifications to be printed out\n",
    "    @param radius: the radius of pies\n",
    "    @param fontsize: font size of the title \n",
    "    @param fig_width: the width of the figure\n",
    "    @param fig_height: the height of the figure\n",
    "    @return: None\n",
    "'''\n",
    "# plotly version\n",
    "rs.getAddModificationStatisitc2(d, \n",
    "                                proj_name = 'test', \n",
    "                                top_num=10,\n",
    "                                fontsize=12,\n",
    "                                fig_width=600,\n",
    "                                fig_height=1200)\n",
    "\n"
   ]
  },
  {
   "cell_type": "code",
   "execution_count": null,
   "metadata": {
    "pycharm": {
     "is_executing": false,
     "name": "#%%\n"
    }
   },
   "outputs": [],
   "source": [
    "'''\n",
    "    The function shows the 5' and 3' base addition modifications of tRFs.\n",
    "    The function will print the top 5' and 3' addition modifications\n",
    "    And draw four types of pie charts:\n",
    "        1. A pie chart showing the ratio of tRFs with or without 5'-Addition modification\n",
    "        2. A pie chart showing the composition of 5'-Addition modifications\n",
    "        3. A pie chart showing the ratio of tRFs with or without 3'-Addition modification\n",
    "        4. A pie chart showing the composition of 3'-Addition modifications\n",
    "    @param d: The data object generated by data_loader.py\n",
    "    @param proj_name: the name of project, the default is \"test\", use can check the name of hit.tab file\n",
    "            it follows the pattern : <sampleID>+\"_\"+<proj_name>+\"_hit.tab\"\n",
    "    @param top_num: The number of top addition modifications to be printed out\n",
    "    @param radius: the radius of pies\n",
    "    @param fontsize:\n",
    "    @param fig_width:\n",
    "    @return: None\n",
    "\n",
    "'''\n",
    "# matplotlib version\n",
    "rs.getAddModificationStatisitc(d, \n",
    "                                proj_name = 'test', \n",
    "                                top_num=10,\n",
    "                                fontsize=14,\n",
    "                                fig_width=12\n",
    "                                )"
   ]
  }
 ],
 "metadata": {
  "kernelspec": {
   "display_name": "PyCharm (tRNAExplorerII)",
   "language": "python",
   "name": "pycharm-db395496"
  },
  "language_info": {
   "codemirror_mode": {
    "name": "ipython",
    "version": 3
   },
   "file_extension": ".py",
   "mimetype": "text/x-python",
   "name": "python",
   "nbconvert_exporter": "python",
   "pygments_lexer": "ipython3",
   "version": "3.6.8"
  },
  "pycharm": {
   "stem_cell": {
    "cell_type": "raw",
    "source": [],
    "metadata": {
     "collapsed": false
    }
   }
  }
 },
 "nbformat": 4,
 "nbformat_minor": 4
}